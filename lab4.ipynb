{
 "cells": [
  {
   "cell_type": "markdown",
   "metadata": {},
   "source": [
    "(a). Write a function \"EncodeQR\" which takes the name of the product(in a string) at most \n",
    "5 characters with a minimum of one letter and returns back a list containing the encoded QR code. Use lambda functions wherever you find it appropriate. \n",
    "Example if the input is Hi \n",
    "H - Ascii value is 72, Binary conversion of 72 is 01001000 as this is the first character pad it with 10000000 so the encoded code for H is1000000001001000 \n",
    "i-Ascii value is 105,Binary conversion of 105 is 01101001 and this is second character pad it with 01000000 so the encoded code for 'i' is 0100000001101001 \n",
    "Hi - 10000000010010000100000001101001. \n",
    "\n",
    "(b) Put the above function in a module and use another script to import the module and call the function in the script. "
   ]
  },
  {
   "cell_type": "code",
   "execution_count": 5,
   "metadata": {},
   "outputs": [
    {
     "name": "stdout",
     "output_type": "stream",
     "text": [
      "10000000010010000100000001101001\n"
     ]
    }
   ],
   "source": [
    "import la4\n",
    "la4.EncoderQR()"
   ]
  },
  {
   "cell_type": "markdown",
   "metadata": {},
   "source": [
    "Create a class called \"Your Domain Name\" which has five \n",
    "attributes(2 string, 3 number). Initialize the variables in \n",
    "the \"__init_” method and write at least three more methods.\n",
    "With respect to your domain, you can create methods for getting Input,\n",
    "update the values, verify the condition, and etc,. "
   ]
  },
  {
   "cell_type": "code",
   "execution_count": 18,
   "metadata": {},
   "outputs": [
    {
     "name": "stdout",
     "output_type": "stream",
     "text": [
      "Cname: nehe  \n",
      " Product: dolo  \n",
      " Price: 400  \n",
      " Quantity: 3  \n",
      " Orderid: 1\n",
      "40\n",
      "Cname: nehe  \n",
      " Product: dolo  \n",
      " Price: 400  \n",
      " Quantity: 3  \n",
      " Orderid: 1\n",
      "quantity increased to  20\n"
     ]
    }
   ],
   "source": [
    "\n",
    "class medical:\n",
    "    def __init__(self,cname,product,price,quantity,orderid):\n",
    "        self.cname = cname\n",
    "        self.product = product\n",
    "        self.price = price\n",
    "        self.quantity = quantity\n",
    "        self.orderid = orderid\n",
    "    def myfunc(self):\n",
    "        print(\"Cname:\",self.cname,\" \\n Product:\",self.product,\" \\n Price:\",self.price,\" \\n Quantity:\", self.quantity,\" \\n Orderid:\", self.orderid)\n",
    "    def upd(self,qt):\n",
    "        self.price=qt \n",
    "        print(\"Price changed to \",self.price)\n",
    "        \n",
    "          \n",
    "a1=medical(\"nehe\",\"dolo\",400,3,1)\n",
    "a2=medical(\"neha\",\"livoset\",40,2,2)\n",
    "a1.myfunc()\n",
    "print(a2.price)\n",
    "class medical1(medical):\n",
    "    def upd(self,qt):\n",
    "        self.quantity=qt\n",
    "        print(\"quantity increased to \",self.quantity)\n",
    "\n",
    "a3=medical1(\"nehe\",\"dolo\",400,3,1)\n",
    "a3.myfunc()\n",
    "a3.upd(20)\n"
   ]
  }
 ],
 "metadata": {
  "kernelspec": {
   "display_name": "Python 3",
   "language": "python",
   "name": "python3"
  },
  "language_info": {
   "codemirror_mode": {
    "name": "ipython",
    "version": 3
   },
   "file_extension": ".py",
   "mimetype": "text/x-python",
   "name": "python",
   "nbconvert_exporter": "python",
   "pygments_lexer": "ipython3",
   "version": "3.11.3"
  },
  "orig_nbformat": 4
 },
 "nbformat": 4,
 "nbformat_minor": 2
}
